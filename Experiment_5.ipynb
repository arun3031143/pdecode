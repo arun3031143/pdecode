{
  "nbformat": 4,
  "nbformat_minor": 0,
  "metadata": {
    "colab": {
      "provenance": [],
      "authorship_tag": "ABX9TyOGKMLmnQKLSY0V9Z3h1OSn",
      "include_colab_link": true
    },
    "kernelspec": {
      "name": "python3",
      "display_name": "Python 3"
    },
    "language_info": {
      "name": "python"
    }
  },
  "cells": [
    {
      "cell_type": "markdown",
      "metadata": {
        "id": "view-in-github",
        "colab_type": "text"
      },
      "source": [
        "<a href=\"https://colab.research.google.com/github/arun3031143/pdecode/blob/main/Experiment_5.ipynb\" target=\"_parent\"><img src=\"https://colab.research.google.com/assets/colab-badge.svg\" alt=\"Open In Colab\"/></a>"
      ]
    },
    {
      "cell_type": "markdown",
      "source": [
        "## The Laplace Transform and Frequency Response\n",
        "\n",
        "The Laplace Transform is a powerful mathematical tool used extensively in circuit analysis, control systems, and signal processing. It transforms a function from the time domain, f(t)\n",
        ", into the frequency domain, F(s)\n",
        ".\n",
        "\n",
        "While this is useful for solving differential equations, its true power in engineering comes from analyzing the frequency response. By setting the complex variable $s = j\\omega$\n",
        " (where\n",
        " is the imaginary unit and $\\omega$\n",
        " is angular frequency), we can see how a system or signal behaves at different frequencies. This is analyzed through two key plots: the Magnitude Plot and the Phase Plot.\n",
        "\n",
        " ## Aim\n",
        "\n",
        "\n",
        "To compute the Laplace transform of given functions and, most importantly, to visualize and interpret their frequency response through magnitude and phase plots.\n",
        "\n",
        "## Objectives\n",
        "\n",
        "- To use Python’s `SymPy` library for symbolic Laplace transforms.\n",
        "- To understand how to obtain the frequency response function $F(j\\omega)$\n",
        " from the Laplace transform $F(s)$\n",
        ".\n",
        "- To generate and interpret magnitude and phase plots.\n",
        "- To connect these plots to physical concepts like amplification, attenuation, and time delay (phase shift).\n",
        "\n",
        "## Algorithm\n",
        "\n",
        "1. **Define Symbols:** Use `sp.symbols()` to declare symbolic variables t (time), s (Laplace variable), and w (frequency, $\\omega$\n",
        ").\n",
        "\n",
        "2. **Define the Function:** Specify the time-domain function $f(t)$\n",
        " as a symbolic expression.\n",
        "3. **Compute Laplace Transform:** Use `sp.laplace_transform()` to find the corresponding $F(s)$\n",
        ".\n",
        "4. **Derive Frequency Response:** Substitute $s = j\\omega$\n",
        " into the symbolic expression for $F(s)$\n",
        " to get the frequency response function $F(j\\omega)$\n",
        ".\n",
        "5. **Prepare for Plotting:** Convert the symbolic expressions for $f(t)$\n",
        " and $F(j\\omega)$\n",
        " into fast numerical functions using `sp.lambdify().`\n",
        "6. **Generate Data:**\n",
        "- Create a numerical array of time points t_values.\n",
        "- Create a logarithmic array of frequency points w_values using np.logspace().\n",
        "- Calculate the complex values of\n",
        " for the frequency range.\n",
        "7. **Calculate Magnitude and Phase:**\n",
        "Magnitude: np.abs(F_jw_values)\n",
        "Phase: np.angle(F_jw_values, deg=True) (in degrees for easier interpretation)\n",
        "8. **Plot:** Create three subplots: the time-domain signal, the magnitude plot (log-log scale), and the phase plot (log-x scale). This set of frequency plots is known as a Bode Plot.\n"
      ],
      "metadata": {
        "id": "ArDggTwbo0kR"
      }
    },
    {
      "cell_type": "markdown",
      "source": [
        "## LAPLACE TRANSFORMS OF BASIC FUNCTIONS USING `SYMPY`\n",
        "\n",
        "1. Find the laplace transform of the following\n",
        "\n",
        "(i). $\\sin(at)$\n",
        "\n",
        "(ii). $cos(at)$\n",
        "\n",
        "(iii). $cosh(at)$\n",
        "\n",
        "(iv). $e^{-at}\\left(\\sin 2t-\\cos t\\right)$\n",
        "\n",
        "\n",
        "\n",
        "\n",
        "\n",
        "\n",
        "\n",
        "*step1:* importing libraries\n"
      ],
      "metadata": {
        "id": "KkMGnbYgtTxt"
      }
    },
    {
      "cell_type": "code",
      "source": [
        "## importing libraries\n",
        "\n",
        "import sympy as sp\n",
        "from IPython.display import display, Math\n"
      ],
      "metadata": {
        "id": "GZTF4gGyuJmM"
      },
      "execution_count": 2,
      "outputs": []
    },
    {
      "cell_type": "markdown",
      "source": [
        "*Step2:* creating symbolic variables and define function"
      ],
      "metadata": {
        "id": "pjFiB0Yiul6V"
      }
    },
    {
      "cell_type": "code",
      "source": [
        "# ---1. Define symbols\n",
        "\n",
        "t, s, a, b=sp.symbols('t s a b', real= True, positive=True)\n",
        "\n",
        "# ---2. Define the function\n",
        "f=sp.sin(a*t)\n"
      ],
      "metadata": {
        "id": "5Qw-a1NXv1bl"
      },
      "execution_count": 3,
      "outputs": []
    },
    {
      "cell_type": "markdown",
      "source": [
        "*step3:* Evaluating the laplace transform"
      ],
      "metadata": {
        "id": "FBIy7TrEwdNN"
      }
    },
    {
      "cell_type": "code",
      "source": [
        "# --- 3. compute laplace transform ---\n",
        "\n",
        "F_s=sp.laplace_transform(f,t,s,noconds=True)\n"
      ],
      "metadata": {
        "id": "lVNKen19woTV"
      },
      "execution_count": 4,
      "outputs": []
    },
    {
      "cell_type": "markdown",
      "source": [
        "*step4:* Display the output in symbolic mode"
      ],
      "metadata": {
        "id": "v1-Gmvt3xaNl"
      }
    },
    {
      "cell_type": "code",
      "source": [
        "# --- 4. print the symbolic results ---\n",
        "\n",
        "print(\"given function :\")\n",
        "display(Math('f(t)='+sp. latex(f)))\n",
        "print(\"Laplace transform:\")\n",
        "display(Math('\\\\bar{f}(s)='+ sp.latex(F_s)))\n"
      ],
      "metadata": {
        "colab": {
          "base_uri": "https://localhost:8080/",
          "height": 105
        },
        "id": "rfvlu4KDxmWN",
        "outputId": "4131e4a9-6b9b-44d5-ad65-9b9057393f7d"
      },
      "execution_count": 5,
      "outputs": [
        {
          "output_type": "stream",
          "name": "stdout",
          "text": [
            "given function :\n"
          ]
        },
        {
          "output_type": "display_data",
          "data": {
            "text/plain": [
              "<IPython.core.display.Math object>"
            ],
            "text/latex": "$\\displaystyle f(t)=\\sin{\\left(a t \\right)}$"
          },
          "metadata": {}
        },
        {
          "output_type": "stream",
          "name": "stdout",
          "text": [
            "Laplace transform:\n"
          ]
        },
        {
          "output_type": "display_data",
          "data": {
            "text/plain": [
              "<IPython.core.display.Math object>"
            ],
            "text/latex": "$\\displaystyle \\bar{f}(s)=\\frac{a}{a^{2} + s^{2}}$"
          },
          "metadata": {}
        }
      ]
    },
    {
      "cell_type": "markdown",
      "source": [
        "> Find $\\mathcal{L}(\\cos at)$"
      ],
      "metadata": {
        "id": "Gf2vsPLwzflG"
      }
    },
    {
      "cell_type": "markdown",
      "source": [
        "\n",
        "\n",
        "\n",
        "\n",
        "\n",
        "\n",
        "\n",
        "\n",
        "*step1:* importing libraries\n"
      ],
      "metadata": {
        "id": "WKegPWNRy0uR"
      }
    },
    {
      "cell_type": "code",
      "source": [
        "## importing libraries\n",
        "\n",
        "import sympy as sp\n",
        "from IPython.display import display, Math\n"
      ],
      "metadata": {
        "id": "6I2R5MjUzEUi"
      },
      "execution_count": 6,
      "outputs": []
    },
    {
      "cell_type": "markdown",
      "source": [
        "*Step2:* creating symbolic variables and define function"
      ],
      "metadata": {
        "id": "EIyS0kEjzMMq"
      }
    },
    {
      "cell_type": "code",
      "source": [
        "# ---1. Define symbols\n",
        "\n",
        "t, s, a, b=sp.symbols('t s a b', real= True, positive=True)\n",
        "\n",
        "# ---2. Define the function\n",
        "f=sp.cos(a*t)\n"
      ],
      "metadata": {
        "id": "cf3DF3wRzaFK"
      },
      "execution_count": 11,
      "outputs": []
    },
    {
      "cell_type": "markdown",
      "source": [
        "*step3:* Evaluating the laplace transform"
      ],
      "metadata": {
        "id": "4WbZelxI0Dgb"
      }
    },
    {
      "cell_type": "code",
      "source": [
        "# --- 3. compute laplace transform ---\n",
        "\n",
        "F_s=sp.laplace_transform(f,t,s,noconds=True)\n"
      ],
      "metadata": {
        "id": "Kh3LCaDc0g45"
      },
      "execution_count": 8,
      "outputs": []
    },
    {
      "cell_type": "markdown",
      "source": [],
      "metadata": {
        "id": "cIj_J7kr0kiN"
      }
    },
    {
      "cell_type": "markdown",
      "source": [
        "*step4:* Display the output in symbolic mode"
      ],
      "metadata": {
        "id": "4RaQNSgI0k9z"
      }
    },
    {
      "cell_type": "code",
      "source": [
        "# --- 4. print the symbolic results ---\n",
        "\n",
        "print(\"given function :\")\n",
        "display(Math('f(t)='+sp. latex(f)))\n",
        "print(\"Laplace transform:\")\n",
        "display(Math('\\\\bar{f}(s)='+ sp.latex(F_s)))\n"
      ],
      "metadata": {
        "colab": {
          "base_uri": "https://localhost:8080/",
          "height": 105
        },
        "outputId": "203a16ae-13a0-43f2-f787-4d4248a1d3ea",
        "id": "mVSHq5230oWg"
      },
      "execution_count": 12,
      "outputs": [
        {
          "output_type": "stream",
          "name": "stdout",
          "text": [
            "given function :\n"
          ]
        },
        {
          "output_type": "display_data",
          "data": {
            "text/plain": [
              "<IPython.core.display.Math object>"
            ],
            "text/latex": "$\\displaystyle f(t)=\\cos{\\left(a t \\right)}$"
          },
          "metadata": {}
        },
        {
          "output_type": "stream",
          "name": "stdout",
          "text": [
            "Laplace transform:\n"
          ]
        },
        {
          "output_type": "display_data",
          "data": {
            "text/plain": [
              "<IPython.core.display.Math object>"
            ],
            "text/latex": "$\\displaystyle \\bar{f}(s)=\\frac{a}{a^{2} + s^{2}}$"
          },
          "metadata": {}
        }
      ]
    },
    {
      "cell_type": "markdown",
      "source": [
        "> Find $L(cosh(at))$"
      ],
      "metadata": {
        "id": "SjH35fNM08CJ"
      }
    },
    {
      "cell_type": "code",
      "source": [
        "## importing libraries\n",
        "\n",
        "import sympy as sp\n",
        "from IPython.display import display, Math\n"
      ],
      "metadata": {
        "id": "9638g-EV1m6T"
      },
      "execution_count": 13,
      "outputs": []
    },
    {
      "cell_type": "code",
      "source": [
        "# ---1. Define symbols\n",
        "\n",
        "t, s, a, b=sp.symbols('t s a b', real= True, positive=True)\n",
        "\n",
        "# ---2. Define the function\n",
        "f=sp.cosh(a*t)\n"
      ],
      "metadata": {
        "id": "Kie16nOZ1tKN"
      },
      "execution_count": 22,
      "outputs": []
    },
    {
      "cell_type": "code",
      "source": [
        "# --- 3. compute laplace transform ---\n",
        "\n",
        "F_s=sp.laplace_transform(f,t,s,noconds=True)\n"
      ],
      "metadata": {
        "id": "uqU8Oq9Y12Wb"
      },
      "execution_count": 23,
      "outputs": []
    },
    {
      "cell_type": "code",
      "source": [
        "# --- 4. print the symbolic results ---\n",
        "\n",
        "print(\"given function :\")\n",
        "display(Math('f(t)='+sp. latex(f)))\n",
        "print(\"Laplace transform:\")\n",
        "display(Math('\\\\bar{f}(s)='+ sp.latex(F_s)))\n"
      ],
      "metadata": {
        "colab": {
          "base_uri": "https://localhost:8080/",
          "height": 105
        },
        "outputId": "94591366-7c99-4690-ceb9-368aa5b463e6",
        "id": "p5ZQYvrw4_GF"
      },
      "execution_count": 24,
      "outputs": [
        {
          "output_type": "stream",
          "name": "stdout",
          "text": [
            "given function :\n"
          ]
        },
        {
          "output_type": "display_data",
          "data": {
            "text/plain": [
              "<IPython.core.display.Math object>"
            ],
            "text/latex": "$\\displaystyle f(t)=\\cosh{\\left(a t \\right)}$"
          },
          "metadata": {}
        },
        {
          "output_type": "stream",
          "name": "stdout",
          "text": [
            "Laplace transform:\n"
          ]
        },
        {
          "output_type": "display_data",
          "data": {
            "text/plain": [
              "<IPython.core.display.Math object>"
            ],
            "text/latex": "$\\displaystyle \\bar{f}(s)=\\frac{s}{- a^{2} + s^{2}}$"
          },
          "metadata": {}
        }
      ]
    },
    {
      "cell_type": "markdown",
      "source": [
        " >Find  L($e^{-at}\\left(\\sin 2t-\\cos t\\right)$)"
      ],
      "metadata": {
        "id": "CI00V4pk33aO"
      }
    },
    {
      "cell_type": "code",
      "source": [
        "## importing libraries\n",
        "\n",
        "import sympy as sp\n",
        "from IPython.display import display, Math\n"
      ],
      "metadata": {
        "id": "NcuiLhLS4oI6"
      },
      "execution_count": null,
      "outputs": []
    },
    {
      "cell_type": "code",
      "source": [
        "\n",
        "\n",
        "# ---2. Define the function\n",
        "f=sp.exp(-a*t)*(sp.sin(2*t)-sp.cos(t))\n"
      ],
      "metadata": {
        "id": "QclxbYe54taE"
      },
      "execution_count": 29,
      "outputs": []
    },
    {
      "cell_type": "code",
      "source": [
        "# --- 3. compute laplace transform ---\n",
        "\n",
        "F_s=sp.laplace_transform(f,t,s,noconds=True)\n"
      ],
      "metadata": {
        "id": "P6poS-Yo4wkK"
      },
      "execution_count": 30,
      "outputs": []
    },
    {
      "cell_type": "code",
      "source": [
        "# --- 4. print the symbolic results ---\n",
        "\n",
        "print(\"given function :\")\n",
        "display(Math('f(t)='+sp. latex(f)))\n",
        "print(\"Laplace transform:\")\n",
        "display(Math('\\\\bar{f}(s)='+ sp.latex(F_s)))\n"
      ],
      "metadata": {
        "colab": {
          "base_uri": "https://localhost:8080/",
          "height": 114
        },
        "outputId": "a533546e-1fc8-4c7a-b6d8-c29ee37128b6",
        "id": "pwQhIyqN5Ksj"
      },
      "execution_count": 31,
      "outputs": [
        {
          "output_type": "stream",
          "name": "stdout",
          "text": [
            "given function :\n"
          ]
        },
        {
          "output_type": "display_data",
          "data": {
            "text/plain": [
              "<IPython.core.display.Math object>"
            ],
            "text/latex": "$\\displaystyle f(t)=\\left(\\sin{\\left(2 t \\right)} - \\cos{\\left(t \\right)}\\right) e^{- a t}$"
          },
          "metadata": {}
        },
        {
          "output_type": "stream",
          "name": "stdout",
          "text": [
            "Laplace transform:\n"
          ]
        },
        {
          "output_type": "display_data",
          "data": {
            "text/plain": [
              "<IPython.core.display.Math object>"
            ],
            "text/latex": "$\\displaystyle \\bar{f}(s)=- \\frac{a + s}{\\left(a + s\\right)^{2} + 1} + \\frac{2}{\\left(a + s\\right)^{2} + 4}$"
          },
          "metadata": {}
        }
      ]
    },
    {
      "cell_type": "markdown",
      "source": [
        "## Case Study: An RC Low-Pass Filter’s Impulse Response\n",
        "\n",
        "**Problem:** The voltage response of a simple RC low-pass filter to a sharp input (an impulse) is an exponential decay function,$f(t) = e^{-at}$ , where $a = 1/RC$ . Let’s analyze this signal for $a=1$\n",
        "\n",
        "**Physical Interpretation:**\n",
        "\n",
        "*Magnitude |F(jω)|:* Tells us how much the filter will pass or block a sine wave of frequency $\\omega$\n",
        "\n",
        " *Phase arg(F(jω)):* Tells us how much the filter will delay a sine wave of frequency $\\omega$"
      ],
      "metadata": {
        "id": "XtWWF_ci2yk8"
      }
    },
    {
      "cell_type": "code",
      "source": [
        "import sympy as sp\n",
        "import numpy as np\n",
        "import matplotlib.pyplot as plt\n",
        "\n",
        "# --- 1. Define symbols ---\n",
        "t, s, w = sp.symbols('t s w', real=True, positive=True)\n",
        "a = sp.Symbol('a', real=True, positive=True)\n",
        "\n",
        "# --- 2. Define the function ---\n",
        "f = sp.exp(-a*t)\n",
        "\n",
        "# --- 3. Compute Laplace Transform ---\n",
        "F_s = sp.laplace_transform(f, t, s, noconds=True)\n",
        "\n",
        "# --- Set parameter for our specific case ---\n",
        "f_case = f.subs(a, 1)\n",
        "F_s_case = F_s.subs(a, 1)\n",
        "\n",
        "# --- 4. Derive Frequency Response ---\n",
        "F_jw = F_s_case.subs(s, 1j * w)\n",
        "\n",
        "# --- Print the symbolic results ---\n",
        "print(f\"Function: f(t) = {f_case}\")\n",
        "print(f\"Laplace Transform: F(s) = {F_s_case}\")\n",
        "print(f\"Frequency Response: F(jω) = {F_jw}\")\n",
        "\n",
        "# --- 5. Lambdify for numerical evaluation ---\n",
        "f_func = sp.lambdify(t, f_case, 'numpy')\n",
        "F_jw_func = sp.lambdify(w, F_jw, 'numpy')\n",
        "\n",
        "# --- 6. & 7. Generate Data and Calculate Mag/Phase ---\n",
        "t_values = np.linspace(0, 5, 400)\n",
        "f_values = f_func(t_values)\n",
        "\n",
        "w_values = np.logspace(-1, 2, 400) # From 0.1 to 100 rad/s\n",
        "F_jw_values = F_jw_func(w_values)\n",
        "\n",
        "magnitude = np.abs(F_jw_values)\n",
        "phase = np.angle(F_jw_values, deg=True)\n",
        "\n",
        "# --- 8. Plotting ---\n",
        "plt.figure(figsize=(8, 6))\n",
        "\n",
        "# Plot f(t)\n",
        "plt.subplot(3, 1, 1)\n",
        "plt.plot(t_values, f_values, color='blue')\n",
        "plt.title('Time Domain: $f(t) = e^{-t}$ (Impulse Response of RC Filter)')\n",
        "plt.xlabel('Time (t)')\n",
        "plt.ylabel('Amplitude')\n",
        "plt.grid(True)\n",
        "\n",
        "# Plot Magnitude |F(jω)|\n",
        "plt.subplot(3, 1, 2)\n",
        "plt.loglog(w_values, magnitude, color='red')\n",
        "plt.title('Frequency Response: Magnitude Plot')\n",
        "plt.xlabel('Frequency (ω) [rad/s]')\n",
        "plt.ylabel('|F(jω)| (Gain)')\n",
        "plt.grid(True, which=\"both\", ls=\"-\")\n",
        "\n",
        "# Plot Phase arg(F(jω))\n",
        "plt.subplot(3, 1, 3)\n",
        "plt.semilogx(w_values, phase, color='purple')\n",
        "plt.title('Frequency Response: Phase Plot')\n",
        "plt.xlabel('Frequency (ω) [rad/s]')\n",
        "plt.ylabel('Phase (degrees)')\n",
        "plt.grid(True, which=\"both\", ls=\"-\")\n",
        "\n",
        "plt.tight_layout()\n",
        "plt.show()"
      ],
      "metadata": {
        "colab": {
          "base_uri": "https://localhost:8080/",
          "height": 659
        },
        "id": "WTvjSTF73t0-",
        "outputId": "95a56e7a-3423-4e72-fc25-653e84839091"
      },
      "execution_count": 32,
      "outputs": [
        {
          "output_type": "stream",
          "name": "stdout",
          "text": [
            "Function: f(t) = exp(-t)\n",
            "Laplace Transform: F(s) = 1/(s + 1)\n",
            "Frequency Response: F(jω) = 1/(1.0*I*w + 1)\n"
          ]
        },
        {
          "output_type": "display_data",
          "data": {
            "text/plain": [
              "<Figure size 800x600 with 3 Axes>"
            ],
            "image/png": "[encoded data removed]"
          },
          "metadata": {}
        }
      ]
    },
    {
      "cell_type": "markdown",
      "source": [],
      "metadata": {
        "id": "Q26yFpqZ7rXl"
      }
    },
    {
      "cell_type": "markdown",
      "source": [
        "## Results and Discussion\n",
        "\n",
        "- **Time Domain:** The function $e^{-t}$\n",
        " shows a sharp start at 1, followed by a slow decay.\n",
        "\n",
        "- **Magnitude Plot:** This plot clearly shows the behavior of a low-pass filter. At low frequencies (e.g., $\\omega<1$\n",
        "), the magnitude (gain) is close to 1, meaning these signals are passed through without attenuation. As frequency increases, the magnitude rolls off, indicating that high-frequency signals are blocked. The “corner frequency” where the roll-off begins is at $\\omega=1/a=1$\n",
        "\n",
        "- *Phase Plot:* At very low frequencies, the phase shift is near 0 degrees. As the frequency approaches the corner frequency, the phase lag increases, reaching -45 degrees at $\\omega=1$\n",
        " rad/s. At very high frequencies, the phase shift approaches -90 degrees, meaning a high-frequency sine wave passing through this filter will be delayed by a quarter of its cycle. This delay is a fundamental property of physical systems like filters.\n",
        "\n"
      ],
      "metadata": {
        "id": "qyPPZFi15oKF"
      }
    },
    {
      "cell_type": "markdown",
      "source": [],
      "metadata": {
        "id": "81nIez3Q7iHV"
      }
    }
  ]
}